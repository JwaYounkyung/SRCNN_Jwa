{
 "cells": [
  {
   "cell_type": "code",
   "execution_count": 1,
   "metadata": {},
   "outputs": [],
   "source": [
    "### import\n",
    "import torch\n",
    "from torch import nn\n",
    "import torch.optim as optim\n",
    "import torchvision\n",
    "\n",
    "import numpy as np\n",
    "import matplotlib.pyplot as plt\n",
    "\n",
    "import copy\n",
    "import pickle\n",
    "\n",
    "from datasets import TrainDataset, EvalDataset\n"
   ]
  },
  {
   "cell_type": "code",
   "execution_count": 2,
   "metadata": {},
   "outputs": [],
   "source": [
    "### device setting\n",
    "device = torch.device('cuda:0' if torch.cuda.is_available() else 'cpu')"
   ]
  },
  {
   "cell_type": "code",
   "execution_count": 3,
   "metadata": {},
   "outputs": [],
   "source": [
    "### hyperparameters setting\n",
    "num_epochs = 4\n",
    "num_classes = 10\n",
    "batch_size = 16\n",
    "\n",
    "kernel_size = [9,1,5]"
   ]
  },
  {
   "cell_type": "code",
   "execution_count": 4,
   "metadata": {},
   "outputs": [],
   "source": [
    "### Dataset setting\n",
    "train_dataset_file = 'dataset/91-image_x3.h5'\n",
    "eval_dataset_file = 'dataset/Set5_x3.h5'\n",
    "\n",
    "class transform_class:\n",
    "    def __init__(self):\n",
    "        self.transform_crop = None\n",
    "    \n",
    "    def crop(self, fsub1, fsub2):\n",
    "        self.crop_transform = torchvision.transforms.Compose([\n",
    "            torchvision.transforms.ToTensor(), # HxWxC to CxHxW\n",
    "            torchvision.transforms.CenterCrop((fsub1-sum(kernel_size)+3,fsub2-sum(kernel_size)+3)) # fsub-f1-f2-f3+3 | 33-9-1-5+3\n",
    "        ])\n",
    "        return self.crop_transform\n",
    "\n",
    "tranform_train = transform_class()\n",
    "transform_eval = transform_class()\n",
    "\n",
    "train_dataset = TrainDataset(root=train_dataset_file, target_transform=tranform_train.crop(33,33))\n",
    "eval_dataset = EvalDataset(root=eval_dataset_file, target_transform=transform_eval)"
   ]
  },
  {
   "cell_type": "code",
   "execution_count": 5,
   "metadata": {},
   "outputs": [],
   "source": [
    "train_loader = torch.utils.data.DataLoader(dataset=train_dataset,\n",
    "                                           batch_size=batch_size,\n",
    "                                           shuffle=True)\n",
    "eval_loader = torch.utils.data.DataLoader(dataset=eval_dataset,\n",
    "                                          batch_size=1,\n",
    "                                          shuffle=False)"
   ]
  },
  {
   "cell_type": "code",
   "execution_count": 6,
   "metadata": {},
   "outputs": [
    {
     "name": "stdout",
     "output_type": "stream",
     "text": [
      "number of train data: (about) 21888\n",
      "number of eval data:  5\n",
      "X_train: torch.Size([16, 1, 33, 33]) type: torch.FloatTensor\n",
      "y_train: torch.Size([16, 1, 21, 21]) type: torch.FloatTensor\n",
      "X_eval: torch.Size([1, 1, 510, 510]) type: torch.FloatTensor\n",
      "y_eval: torch.Size([1, 1, 498, 498]) type: torch.FloatTensor\n",
      "X_eval: torch.Size([1, 1, 288, 288]) type: torch.FloatTensor\n",
      "y_eval: torch.Size([1, 1, 276, 276]) type: torch.FloatTensor\n",
      "X_eval: torch.Size([1, 1, 255, 255]) type: torch.FloatTensor\n",
      "y_eval: torch.Size([1, 1, 243, 243]) type: torch.FloatTensor\n",
      "X_eval: torch.Size([1, 1, 279, 279]) type: torch.FloatTensor\n",
      "y_eval: torch.Size([1, 1, 267, 267]) type: torch.FloatTensor\n",
      "X_eval: torch.Size([1, 1, 342, 228]) type: torch.FloatTensor\n",
      "y_eval: torch.Size([1, 1, 330, 216]) type: torch.FloatTensor\n"
     ]
    }
   ],
   "source": [
    "### Checking data\n",
    "print('number of train data: (about)', batch_size*len(train_loader))\n",
    "print('number of eval data: ', 1*len(eval_loader))\n",
    "\n",
    "for X_train, y_train in train_loader:\n",
    "    print('X_train:', X_train.size(), 'type:', X_train.type()) # input\n",
    "    print('y_train:', y_train.size(), 'type:', y_train.type()) # ground truth high-resolution image\n",
    "    break\n",
    "\n",
    "for X_eval, y_eval in eval_loader:\n",
    "    print('X_eval:', X_eval.size(), 'type:', X_eval.type()) # input\n",
    "    print('y_eval:', y_eval.size(), 'type:', y_eval.type()) # ground truth high-resolution image"
   ]
  },
  {
   "cell_type": "code",
   "execution_count": 7,
   "metadata": {},
   "outputs": [
    {
     "data": {
      "image/png": "[encoded data removed]",
      "text/plain": [
       "<Figure size 432x288 with 2 Axes>"
      ]
     },
     "metadata": {
      "needs_background": "light"
     },
     "output_type": "display_data"
    }
   ],
   "source": [
    "### Show image\n",
    "fig = plt.figure()\n",
    "rows = 1\n",
    "cols = 2\n",
    "\n",
    "crop_transform = torchvision.transforms.Compose([\n",
    "    torchvision.transforms.CenterCrop(21)\n",
    "])\n",
    "\n",
    "ax1 = fig.add_subplot(rows, cols, 1)\n",
    "img1 = crop_transform(X_train[0][0])\n",
    "ax1.imshow(img1)\n",
    "ax1.set_title('Input data')\n",
    "ax1.axis(\"off\")\n",
    " \n",
    "ax2 = fig.add_subplot(rows, cols, 2)\n",
    "ax2.imshow(y_train[0][0])\n",
    "ax2.set_title('Ground truth')\n",
    "ax2.axis(\"off\")\n",
    "\n",
    "plt.show()"
   ]
  },
  {
   "cell_type": "code",
   "execution_count": 8,
   "metadata": {},
   "outputs": [],
   "source": [
    "### SRCNN model\n",
    "class SRCNN(nn.Module):\n",
    "    def __init__(self, num_channels=1): # in_channels : RGB or YCbCr\n",
    "        super(SRCNN, self).__init__()\n",
    "        self.layer1 = nn.Sequential(\n",
    "            nn.Conv2d(in_channels=num_channels, out_channels=64, kernel_size=kernel_size[0], stride=1, padding=0),\n",
    "            nn.ReLU())\n",
    "\n",
    "        self.layer2 = nn.Sequential(\n",
    "            nn.Conv2d(in_channels=64, out_channels=32, kernel_size=kernel_size[1], stride=1, padding=0),\n",
    "            nn.ReLU())\n",
    "\n",
    "        self.layer3 = nn.Conv2d(in_channels=32, out_channels=num_channels, kernel_size=kernel_size[2], stride=1, padding=0)\n",
    "\n",
    "    def forward(self, x):\n",
    "        out = self.layer1(x)\n",
    "        out = self.layer2(out)\n",
    "        out = self.layer3(out)\n",
    "        return out"
   ]
  },
  {
   "cell_type": "code",
   "execution_count": 9,
   "metadata": {},
   "outputs": [
    {
     "name": "stdout",
     "output_type": "stream",
     "text": [
      "SRCNN(\n",
      "  (layer1): Sequential(\n",
      "    (0): Conv2d(1, 64, kernel_size=(9, 9), stride=(1, 1))\n",
      "    (1): ReLU()\n",
      "  )\n",
      "  (layer2): Sequential(\n",
      "    (0): Conv2d(64, 32, kernel_size=(1, 1), stride=(1, 1))\n",
      "    (1): ReLU()\n",
      "  )\n",
      "  (layer3): Conv2d(32, 1, kernel_size=(5, 5), stride=(1, 1))\n",
      ")\n",
      "\n",
      "\n",
      "Number of parameters: 8129\n",
      "torch.Size([64, 1, 9, 9])\n",
      "torch.Size([64])\n",
      "torch.Size([32, 64, 1, 1])\n",
      "torch.Size([32])\n",
      "torch.Size([1, 32, 5, 5])\n",
      "torch.Size([1])\n"
     ]
    }
   ],
   "source": [
    "### Configure Optimizer, Objective function\n",
    "model = SRCNN().to(device)\n",
    "optimizer = torch.optim.SGD([\n",
    "                                {'params': model.layer1.parameters()},\n",
    "                                {'params': model.layer2.parameters()},\n",
    "                                {'params': model.layer3.parameters(), 'lr': 1e-5}\n",
    "                            ], lr=1e-4, momentum=0.9)\n",
    "criterion = nn.MSELoss()\n",
    "\n",
    "def PSNR(img1, img2):\n",
    "    mse = torch.mean((img1 - img2) ** 2)\n",
    "    return 10.0 * torch.log10(1.0 / mse)\n",
    "\n",
    "print(model)\n",
    "print('\\n')\n",
    "print('Number of parameters: {}'.format(sum(p.numel() for p in model.parameters())))\n",
    "for p in model.parameters():\n",
    "    print(p.size())"
   ]
  },
  {
   "cell_type": "code",
   "execution_count": 10,
   "metadata": {},
   "outputs": [],
   "source": [
    "### model training \n",
    "def train(model, train_loader, optimizer, log_interval):\n",
    "    model.train()\n",
    "    for batch_idx, (image, label) in enumerate(train_loader):\n",
    "        image = image.to(device)\n",
    "        label = label.to(device)\n",
    "\n",
    "        # Forward pass\n",
    "        output = model(image)\n",
    "        loss = criterion(output, label)\n",
    "\n",
    "        # Backward and optimize\n",
    "        optimizer.zero_grad()\n",
    "        loss.backward()\n",
    "        optimizer.step()\n",
    "\n",
    "        # Printing the result at the specific interval\n",
    "        if batch_idx % log_interval == 0: # log_interval = 100\n",
    "            print(\"Train Epoch: {} [{}/{} ({:.0f}%)]\\tTrain Loss: {:.6f}\".format(\n",
    "                epoch, batch_idx, len(train_loader), 100. * batch_idx / len(train_loader),\n",
    "                loss.item()))"
   ]
  },
  {
   "cell_type": "code",
   "execution_count": 11,
   "metadata": {},
   "outputs": [],
   "source": [
    "### model evaluating\n",
    "def evaluate(model, eval_loader):\n",
    "    model.eval()\n",
    "    \n",
    "    eval_loss = 0\n",
    "    correct = 0\n",
    "\n",
    "    psnr_list = []\n",
    "\n",
    "    with torch.no_grad():\n",
    "        for image, label in eval_loader:\n",
    "            image = image.to(device)\n",
    "            label = label.to(device)\n",
    "            \n",
    "            output = model(image)\n",
    "\n",
    "            # psnr caculate\n",
    "            psnr_list.append(PSNR(output,label))\n",
    "            eval_loss += criterion(output, label).item()\n",
    "\n",
    "    eval_loss /= len(eval_loader.dataset)\n",
    "    eval_psnr = sum(psnr_list)/len(psnr_list)\n",
    "    return eval_loss, eval_psnr"
   ]
  },
  {
   "cell_type": "code",
   "execution_count": 12,
   "metadata": {},
   "outputs": [
    {
     "name": "stdout",
     "output_type": "stream",
     "text": [
      "Train Epoch: 1 [0/1368 (0%)]\tTrain Loss: 0.232904\n",
      "Train Epoch: 1 [100/1368 (7%)]\tTrain Loss: 0.078847\n",
      "Train Epoch: 1 [200/1368 (15%)]\tTrain Loss: 0.021153\n",
      "Train Epoch: 1 [300/1368 (22%)]\tTrain Loss: 0.006669\n",
      "Train Epoch: 1 [400/1368 (29%)]\tTrain Loss: 0.011134\n",
      "Train Epoch: 1 [500/1368 (37%)]\tTrain Loss: 0.005458\n",
      "Train Epoch: 1 [600/1368 (44%)]\tTrain Loss: 0.008103\n",
      "Train Epoch: 1 [700/1368 (51%)]\tTrain Loss: 0.006350\n",
      "Train Epoch: 1 [800/1368 (58%)]\tTrain Loss: 0.005433\n",
      "Train Epoch: 1 [900/1368 (66%)]\tTrain Loss: 0.005365\n",
      "Train Epoch: 1 [1000/1368 (73%)]\tTrain Loss: 0.007483\n",
      "Train Epoch: 1 [1100/1368 (80%)]\tTrain Loss: 0.007519\n",
      "Train Epoch: 1 [1200/1368 (88%)]\tTrain Loss: 0.005940\n",
      "Train Epoch: 1 [1300/1368 (95%)]\tTrain Loss: 0.004909\n",
      "\n",
      "[EPOCH: 1/2], \tEvaluate Loss: 0.0059, \tEvaluate PSNR: 23.09 % \n",
      "\n",
      "Train Epoch: 2 [0/1368 (0%)]\tTrain Loss: 0.006956\n",
      "Train Epoch: 2 [100/1368 (7%)]\tTrain Loss: 0.003938\n",
      "Train Epoch: 2 [200/1368 (15%)]\tTrain Loss: 0.008637\n",
      "Train Epoch: 2 [300/1368 (22%)]\tTrain Loss: 0.005133\n",
      "Train Epoch: 2 [400/1368 (29%)]\tTrain Loss: 0.008981\n",
      "Train Epoch: 2 [500/1368 (37%)]\tTrain Loss: 0.005876\n",
      "Train Epoch: 2 [600/1368 (44%)]\tTrain Loss: 0.004013\n",
      "Train Epoch: 2 [700/1368 (51%)]\tTrain Loss: 0.001830\n",
      "Train Epoch: 2 [800/1368 (58%)]\tTrain Loss: 0.002983\n",
      "Train Epoch: 2 [900/1368 (66%)]\tTrain Loss: 0.005175\n",
      "Train Epoch: 2 [1000/1368 (73%)]\tTrain Loss: 0.005367\n",
      "Train Epoch: 2 [1100/1368 (80%)]\tTrain Loss: 0.002465\n",
      "Train Epoch: 2 [1200/1368 (88%)]\tTrain Loss: 0.004346\n",
      "Train Epoch: 2 [1300/1368 (95%)]\tTrain Loss: 0.002517\n",
      "\n",
      "[EPOCH: 2/2], \tEvaluate Loss: 0.0046, \tEvaluate PSNR: 24.61 % \n",
      "\n"
     ]
    }
   ],
   "source": [
    "### Training and Evaluating\n",
    "psnr_epoch = []\n",
    "for epoch in range(1, num_epochs + 1):\n",
    "    train(model, train_loader, optimizer, log_interval = 100)\n",
    "    eval_loss, eval_psnr = evaluate(model, eval_loader)\n",
    "    print(\"\\n[EPOCH: {}/{}], \\tEvaluate Loss: {:.4f}, \\tEvaluate PSNR: {:.2f} % \\n\".format(\n",
    "        epoch, num_epochs, eval_loss, eval_psnr))\n",
    "    psnr_epoch.append(eval_psnr)\n",
    "\n",
    "pickle.dump(psnr_epoch, open('./results/psnr_list.pickle','wb'))\n",
    "\n",
    "model_weight = copy.deepcopy(model.state_dict())\n",
    "torch.save(model_weight, './results/model_weight.pth')\n"
   ]
  },
  {
   "cell_type": "code",
   "execution_count": 34,
   "metadata": {},
   "outputs": [],
   "source": [
    "### Graph extract\n",
    "def show_result():\n",
    "    psnr_epoch = pickle.load(open('./results/psnr_list.pickle','rb'))\n",
    "    print(psnr_epoch)\n",
    "    a = [1,2]\n",
    "\n",
    "    plt.plot(list(range(1, len(psnr_epoch)+1)), psnr_epoch)\n",
    "    plt.xlabel('epochs')\n",
    "    plt.ylabel('Average PSNR')\n",
    "    plt.savefig('./results/PSNR_Graph.png')\n",
    "    plt.show()"
   ]
  },
  {
   "cell_type": "code",
   "execution_count": 35,
   "metadata": {},
   "outputs": [
    {
     "name": "stdout",
     "output_type": "stream",
     "text": [
      "[tensor(23.0927), tensor(24.6120)]\n"
     ]
    },
    {
     "data": {
      "image/png": "[encoded data removed]",
      "text/plain": [
       "<Figure size 432x288 with 1 Axes>"
      ]
     },
     "metadata": {
      "needs_background": "light"
     },
     "output_type": "display_data"
    }
   ],
   "source": [
    "show_result()"
   ]
  },
  {
   "cell_type": "code",
   "execution_count": 31,
   "metadata": {},
   "outputs": [
    {
     "data": {
      "text/plain": [
       "[1, 2]"
      ]
     },
     "execution_count": 31,
     "metadata": {},
     "output_type": "execute_result"
    }
   ],
   "source": []
  },
  {
   "cell_type": "code",
   "execution_count": null,
   "metadata": {},
   "outputs": [],
   "source": []
  }
 ],
 "metadata": {
  "interpreter": {
   "hash": "31d44ce7392cb46c10d05adfe5c4f9cb38fe608e37917d47628196b44025632f"
  },
  "kernelspec": {
   "display_name": "Python 3.7.11 64-bit ('CV': conda)",
   "language": "python",
   "name": "python3"
  },
  "language_info": {
   "codemirror_mode": {
    "name": "ipython",
    "version": 3
   },
   "file_extension": ".py",
   "mimetype": "text/x-python",
   "name": "python",
   "nbconvert_exporter": "python",
   "pygments_lexer": "ipython3",
   "version": "3.7.11"
  },
  "orig_nbformat": 4
 },
 "nbformat": 4,
 "nbformat_minor": 2
}
