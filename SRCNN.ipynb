{
 "cells": [
  {
   "cell_type": "code",
   "execution_count": 5,
   "metadata": {},
   "outputs": [],
   "source": [
    "### import\n",
    "import torch\n",
    "from torch import nn\n",
    "import torch.optim as optim\n",
    "import torchvision\n",
    "\n",
    "import numpy as np\n",
    "import matplotlib.pyplot as plt\n",
    "\n",
    "import copy\n",
    "import pickle\n",
    "\n",
    "from SRCNN_classes import SRCNN, transform_class, PSNR\n",
    "from datasets import TrainDataset, EvalDataset\n"
   ]
  },
  {
   "cell_type": "code",
   "execution_count": 6,
   "metadata": {},
   "outputs": [],
   "source": [
    "### device setting\n",
    "device = torch.device('cuda:0' if torch.cuda.is_available() else 'cpu')"
   ]
  },
  {
   "cell_type": "code",
   "execution_count": 16,
   "metadata": {},
   "outputs": [],
   "source": [
    "### hyperparameters setting\n",
    "num_epochs = 4 # 1000\n",
    "batch_size = 16\n",
    "\n",
    "kernel_size = [9,3,5] # need to handle"
   ]
  },
  {
   "cell_type": "code",
   "execution_count": 8,
   "metadata": {},
   "outputs": [],
   "source": [
    "### Dataset setting\n",
    "train_dataset_file = 'dataset/91-image_x3.h5'\n",
    "eval_dataset_file = 'dataset/Set5_x3.h5'\n",
    "\n",
    "tranform_train = transform_class(kernel_size=kernel_size)\n",
    "transform_eval = transform_class(kernel_size=kernel_size)\n",
    "\n",
    "train_dataset = TrainDataset(root=train_dataset_file, target_transform=tranform_train.crop(33,33))\n",
    "eval_dataset = EvalDataset(root=eval_dataset_file, target_transform=transform_eval)"
   ]
  },
  {
   "cell_type": "code",
   "execution_count": 9,
   "metadata": {},
   "outputs": [],
   "source": [
    "train_loader = torch.utils.data.DataLoader(dataset=train_dataset,\n",
    "                                           batch_size=batch_size,\n",
    "                                           shuffle=True)\n",
    "eval_loader = torch.utils.data.DataLoader(dataset=eval_dataset,\n",
    "                                          batch_size=1,\n",
    "                                          shuffle=False)"
   ]
  },
  {
   "cell_type": "code",
   "execution_count": 10,
   "metadata": {},
   "outputs": [
    {
     "name": "stdout",
     "output_type": "stream",
     "text": [
      "number of train data: (about) 21888\n",
      "number of eval data:  5\n",
      "X_train: torch.Size([16, 1, 33, 33]) type: torch.FloatTensor\n",
      "y_train: torch.Size([16, 1, 19, 19]) type: torch.FloatTensor\n",
      "X_eval: torch.Size([1, 1, 510, 510]) type: torch.FloatTensor\n",
      "y_eval: torch.Size([1, 1, 496, 496]) type: torch.FloatTensor\n",
      "X_eval: torch.Size([1, 1, 288, 288]) type: torch.FloatTensor\n",
      "y_eval: torch.Size([1, 1, 274, 274]) type: torch.FloatTensor\n",
      "X_eval: torch.Size([1, 1, 255, 255]) type: torch.FloatTensor\n",
      "y_eval: torch.Size([1, 1, 241, 241]) type: torch.FloatTensor\n",
      "X_eval: torch.Size([1, 1, 279, 279]) type: torch.FloatTensor\n",
      "y_eval: torch.Size([1, 1, 265, 265]) type: torch.FloatTensor\n",
      "X_eval: torch.Size([1, 1, 342, 228]) type: torch.FloatTensor\n",
      "y_eval: torch.Size([1, 1, 328, 214]) type: torch.FloatTensor\n"
     ]
    }
   ],
   "source": [
    "### Checking data\n",
    "print('number of train data: (about)', batch_size*len(train_loader))\n",
    "print('number of eval data: ', 1*len(eval_loader))\n",
    "\n",
    "for X_train, y_train in train_loader:\n",
    "    print('X_train:', X_train.size(), 'type:', X_train.type()) # input\n",
    "    print('y_train:', y_train.size(), 'type:', y_train.type()) # ground truth high-resolution image\n",
    "    break\n",
    "\n",
    "for X_eval, y_eval in eval_loader:\n",
    "    print('X_eval:', X_eval.size(), 'type:', X_eval.type()) # input\n",
    "    print('y_eval:', y_eval.size(), 'type:', y_eval.type()) # ground truth high-resolution image"
   ]
  },
  {
   "cell_type": "code",
   "execution_count": 11,
   "metadata": {},
   "outputs": [
    {
     "data": {
      "image/png": "[encoded data removed]",
      "text/plain": [
       "<Figure size 432x288 with 2 Axes>"
      ]
     },
     "metadata": {
      "needs_background": "light"
     },
     "output_type": "display_data"
    }
   ],
   "source": [
    "### Show image\n",
    "fig = plt.figure()\n",
    "rows = 1\n",
    "cols = 2\n",
    "\n",
    "crop_transform = torchvision.transforms.Compose([\n",
    "    torchvision.transforms.CenterCrop(21)\n",
    "])\n",
    "\n",
    "ax1 = fig.add_subplot(rows, cols, 1)\n",
    "img1 = crop_transform(X_train[1][0])\n",
    "ax1.imshow(img1)\n",
    "ax1.set_title('Input data')\n",
    "ax1.axis(\"off\")\n",
    " \n",
    "ax2 = fig.add_subplot(rows, cols, 2)\n",
    "ax2.imshow(y_train[1][0])\n",
    "ax2.set_title('Ground truth')\n",
    "ax2.axis(\"off\")\n",
    "\n",
    "plt.show()"
   ]
  },
  {
   "cell_type": "code",
   "execution_count": 12,
   "metadata": {},
   "outputs": [
    {
     "name": "stdout",
     "output_type": "stream",
     "text": [
      "SRCNN(\n",
      "  (layer1): Sequential(\n",
      "    (0): Conv2d(1, 64, kernel_size=(9, 9), stride=(1, 1))\n",
      "    (1): ReLU()\n",
      "  )\n",
      "  (layer2): Sequential(\n",
      "    (0): Conv2d(64, 32, kernel_size=(3, 3), stride=(1, 1))\n",
      "    (1): ReLU()\n",
      "  )\n",
      "  (layer3): Conv2d(32, 1, kernel_size=(5, 5), stride=(1, 1))\n",
      ") \n",
      "\n",
      "Number of parameters: 24513\n",
      "torch.Size([64, 1, 9, 9])\n",
      "torch.Size([64])\n",
      "torch.Size([32, 64, 3, 3])\n",
      "torch.Size([32])\n",
      "torch.Size([1, 32, 5, 5])\n",
      "torch.Size([1])\n"
     ]
    }
   ],
   "source": [
    "### Configure Optimizer, Objective function\n",
    "model = SRCNN(kernel_size=kernel_size).to(device)\n",
    "optimizer = torch.optim.SGD([\n",
    "                                {'params': model.layer1.parameters()},\n",
    "                                {'params': model.layer2.parameters()},\n",
    "                                {'params': model.layer3.parameters(), 'lr': 1e-5}\n",
    "                            ], lr=1e-4, momentum=0.9)\n",
    "criterion = nn.MSELoss()\n",
    "\n",
    "print(model, '\\n')\n",
    "print('Number of parameters: {}'.format(sum(p.numel() for p in model.parameters())))\n",
    "for p in model.parameters():\n",
    "    print(p.size())"
   ]
  },
  {
   "cell_type": "code",
   "execution_count": 13,
   "metadata": {},
   "outputs": [],
   "source": [
    "### model training \n",
    "def train(model, train_loader, optimizer, log_interval):\n",
    "    model.train()\n",
    "    for batch_idx, (image, label) in enumerate(train_loader):\n",
    "        image = image.to(device)\n",
    "        label = label.to(device)\n",
    "\n",
    "        # Forward pass\n",
    "        output = model(image)\n",
    "        loss = criterion(output, label)\n",
    "\n",
    "        # Backward and optimize\n",
    "        optimizer.zero_grad()\n",
    "        loss.backward()\n",
    "        optimizer.step()\n",
    "\n",
    "        # Printing the result at the specific interval\n",
    "        if batch_idx % log_interval == 0: # log_interval = 100\n",
    "            print(\"Train Epoch: {} [{}/{} ({:.0f}%)]\\tTrain Loss: {:.6f}\".format(\n",
    "                epoch, batch_idx, len(train_loader), 100. * batch_idx / len(train_loader),\n",
    "                loss.item()))"
   ]
  },
  {
   "cell_type": "code",
   "execution_count": 14,
   "metadata": {},
   "outputs": [],
   "source": [
    "### model evaluation\n",
    "def evaluate(model, eval_loader):\n",
    "    model.eval()\n",
    "    \n",
    "    eval_loss = 0\n",
    "    correct = 0\n",
    "\n",
    "    psnr_list = []\n",
    "\n",
    "    with torch.no_grad():\n",
    "        for image, label in eval_loader:\n",
    "            image = image.to(device)\n",
    "            label = label.to(device)\n",
    "            \n",
    "            output = model(image)\n",
    "\n",
    "            # psnr caculate\n",
    "            psnr_list.append(PSNR(output,label))\n",
    "            eval_loss += criterion(output, label).item()\n",
    "\n",
    "    eval_loss /= len(eval_loader.dataset)\n",
    "    eval_psnr = sum(psnr_list)/len(psnr_list)\n",
    "    return eval_loss, eval_psnr"
   ]
  },
  {
   "cell_type": "code",
   "execution_count": 17,
   "metadata": {},
   "outputs": [
    {
     "name": "stdout",
     "output_type": "stream",
     "text": [
      "Train Epoch: 1 [0/1368 (0%)]\tTrain Loss: 0.003898\n",
      "Train Epoch: 1 [100/1368 (7%)]\tTrain Loss: 0.006416\n",
      "Train Epoch: 1 [200/1368 (15%)]\tTrain Loss: 0.003439\n",
      "Train Epoch: 1 [300/1368 (22%)]\tTrain Loss: 0.005138\n",
      "Train Epoch: 1 [400/1368 (29%)]\tTrain Loss: 0.004284\n",
      "Train Epoch: 1 [500/1368 (37%)]\tTrain Loss: 0.005160\n",
      "Train Epoch: 1 [600/1368 (44%)]\tTrain Loss: 0.004120\n",
      "Train Epoch: 1 [700/1368 (51%)]\tTrain Loss: 0.005202\n",
      "Train Epoch: 1 [800/1368 (58%)]\tTrain Loss: 0.004686\n",
      "Train Epoch: 1 [900/1368 (66%)]\tTrain Loss: 0.004645\n",
      "Train Epoch: 1 [1000/1368 (73%)]\tTrain Loss: 0.003754\n",
      "Train Epoch: 1 [1100/1368 (80%)]\tTrain Loss: 0.004066\n",
      "Train Epoch: 1 [1200/1368 (88%)]\tTrain Loss: 0.005384\n",
      "Train Epoch: 1 [1300/1368 (95%)]\tTrain Loss: 0.004497\n",
      "\n",
      "[EPOCH: 1/4], \tEvaluate Loss: 0.0046, \tEvaluate PSNR: 25.11 % \n",
      "\n",
      "Train Epoch: 2 [0/1368 (0%)]\tTrain Loss: 0.007826\n",
      "Train Epoch: 2 [100/1368 (7%)]\tTrain Loss: 0.004110\n",
      "Train Epoch: 2 [200/1368 (15%)]\tTrain Loss: 0.003371\n",
      "Train Epoch: 2 [300/1368 (22%)]\tTrain Loss: 0.004808\n",
      "Train Epoch: 2 [400/1368 (29%)]\tTrain Loss: 0.002240\n",
      "Train Epoch: 2 [500/1368 (37%)]\tTrain Loss: 0.004584\n",
      "Train Epoch: 2 [600/1368 (44%)]\tTrain Loss: 0.004846\n",
      "Train Epoch: 2 [700/1368 (51%)]\tTrain Loss: 0.002598\n",
      "Train Epoch: 2 [800/1368 (58%)]\tTrain Loss: 0.004263\n",
      "Train Epoch: 2 [900/1368 (66%)]\tTrain Loss: 0.004031\n",
      "Train Epoch: 2 [1000/1368 (73%)]\tTrain Loss: 0.003115\n",
      "Train Epoch: 2 [1100/1368 (80%)]\tTrain Loss: 0.003744\n",
      "Train Epoch: 2 [1200/1368 (88%)]\tTrain Loss: 0.004737\n",
      "Train Epoch: 2 [1300/1368 (95%)]\tTrain Loss: 0.003180\n",
      "\n",
      "[EPOCH: 2/4], \tEvaluate Loss: 0.0042, \tEvaluate PSNR: 25.59 % \n",
      "\n",
      "Train Epoch: 3 [0/1368 (0%)]\tTrain Loss: 0.004354\n",
      "Train Epoch: 3 [100/1368 (7%)]\tTrain Loss: 0.003430\n",
      "Train Epoch: 3 [200/1368 (15%)]\tTrain Loss: 0.006388\n",
      "Train Epoch: 3 [300/1368 (22%)]\tTrain Loss: 0.005026\n",
      "Train Epoch: 3 [400/1368 (29%)]\tTrain Loss: 0.003577\n",
      "Train Epoch: 3 [500/1368 (37%)]\tTrain Loss: 0.004071\n",
      "Train Epoch: 3 [600/1368 (44%)]\tTrain Loss: 0.003012\n",
      "Train Epoch: 3 [700/1368 (51%)]\tTrain Loss: 0.006344\n",
      "Train Epoch: 3 [800/1368 (58%)]\tTrain Loss: 0.002091\n",
      "Train Epoch: 3 [900/1368 (66%)]\tTrain Loss: 0.004321\n",
      "Train Epoch: 3 [1000/1368 (73%)]\tTrain Loss: 0.004481\n",
      "Train Epoch: 3 [1100/1368 (80%)]\tTrain Loss: 0.002136\n",
      "Train Epoch: 3 [1200/1368 (88%)]\tTrain Loss: 0.003405\n",
      "Train Epoch: 3 [1300/1368 (95%)]\tTrain Loss: 0.004630\n",
      "\n",
      "[EPOCH: 3/4], \tEvaluate Loss: 0.0039, \tEvaluate PSNR: 25.98 % \n",
      "\n",
      "Train Epoch: 4 [0/1368 (0%)]\tTrain Loss: 0.005799\n",
      "Train Epoch: 4 [100/1368 (7%)]\tTrain Loss: 0.002585\n",
      "Train Epoch: 4 [200/1368 (15%)]\tTrain Loss: 0.005166\n",
      "Train Epoch: 4 [300/1368 (22%)]\tTrain Loss: 0.003225\n",
      "Train Epoch: 4 [400/1368 (29%)]\tTrain Loss: 0.004700\n",
      "Train Epoch: 4 [500/1368 (37%)]\tTrain Loss: 0.004121\n",
      "Train Epoch: 4 [600/1368 (44%)]\tTrain Loss: 0.003496\n",
      "Train Epoch: 4 [700/1368 (51%)]\tTrain Loss: 0.003676\n",
      "Train Epoch: 4 [800/1368 (58%)]\tTrain Loss: 0.003633\n",
      "Train Epoch: 4 [900/1368 (66%)]\tTrain Loss: 0.002991\n",
      "Train Epoch: 4 [1000/1368 (73%)]\tTrain Loss: 0.002240\n",
      "Train Epoch: 4 [1100/1368 (80%)]\tTrain Loss: 0.001440\n",
      "Train Epoch: 4 [1200/1368 (88%)]\tTrain Loss: 0.002922\n",
      "Train Epoch: 4 [1300/1368 (95%)]\tTrain Loss: 0.002810\n",
      "\n",
      "[EPOCH: 4/4], \tEvaluate Loss: 0.0036, \tEvaluate PSNR: 26.32 % \n",
      "\n"
     ]
    }
   ],
   "source": [
    "### Training and Evaluation\n",
    "psnr_epoch = []\n",
    "for epoch in range(1, num_epochs + 1):\n",
    "    train(model, train_loader, optimizer, log_interval = 100)\n",
    "    eval_loss, eval_psnr = evaluate(model, eval_loader)\n",
    "    print(\"\\n[EPOCH: {}/{}], \\tEvaluate Loss: {:.4f}, \\tEvaluate PSNR: {:.2f} % \\n\".format(\n",
    "        epoch, num_epochs, eval_loss, eval_psnr))\n",
    "    psnr_epoch.append(eval_psnr)\n",
    "\n",
    "pickle.dump(psnr_epoch, open('./results/psnr_list.pickle','wb'))\n",
    "\n",
    "model_weight = copy.deepcopy(model.state_dict())\n",
    "torch.save(model_weight, './results/model_weight.pth')\n"
   ]
  },
  {
   "cell_type": "code",
   "execution_count": null,
   "metadata": {},
   "outputs": [],
   "source": []
  }
 ],
 "metadata": {
  "interpreter": {
   "hash": "31d44ce7392cb46c10d05adfe5c4f9cb38fe608e37917d47628196b44025632f"
  },
  "kernelspec": {
   "display_name": "PyTorch 1.9 (NGC 21.03/Python 3.8 Conda) on Backend.AI",
   "language": "python",
   "name": "python3"
  },
  "language_info": {
   "codemirror_mode": {
    "name": "ipython",
    "version": 3
   },
   "file_extension": ".py",
   "mimetype": "text/x-python",
   "name": "python",
   "nbconvert_exporter": "python",
   "pygments_lexer": "ipython3",
   "version": "3.8.8"
  }
 },
 "nbformat": 4,
 "nbformat_minor": 2
}
